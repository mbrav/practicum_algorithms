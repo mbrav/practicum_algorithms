{
 "cells": [
  {
   "cell_type": "code",
   "execution_count": 2,
   "metadata": {},
   "outputs": [
    {
     "name": "stdout",
     "output_type": "stream",
     "text": [
      "worker-2 has slept for 0.12 seconds\n",
      "worker-2 has slept for 0.05 seconds\n",
      "worker-0 has slept for 0.26 seconds\n",
      "worker-2 has slept for 0.26 seconds\n",
      "worker-1 has slept for 0.89 seconds\n",
      "worker-0 has slept for 0.79 seconds\n",
      "worker-2 has slept for 0.92 seconds\n",
      "worker-0 has slept for 0.58 seconds\n",
      "worker-1 has slept for 0.83 seconds\n",
      "worker-2 has slept for 0.82 seconds\n",
      "worker-1 has slept for 0.75 seconds\n",
      "worker-0 has slept for 0.92 seconds\n",
      "worker-1 has slept for 0.15 seconds\n",
      "worker-2 has slept for 0.46 seconds\n",
      "worker-2 has slept for 0.09 seconds\n",
      "worker-1 has slept for 0.21 seconds\n",
      "worker-0 has slept for 0.56 seconds\n",
      "worker-1 has slept for 0.31 seconds\n",
      "worker-2 has slept for 0.65 seconds\n",
      "worker-0 has slept for 0.80 seconds\n",
      "====\n",
      "3 workers slept in parallel for 3.92 seconds\n",
      "total expected sleep time: 10.42 seconds\n"
     ]
    }
   ],
   "source": [
    "import asyncio\n",
    "import random\n",
    "import time\n",
    "\n",
    "\n",
    "async def worker(name, queue):\n",
    "    while True:\n",
    "        # Get a \"work item\" out of the queue.\n",
    "        sleep_for = await queue.get()\n",
    "\n",
    "        # Sleep for the \"sleep_for\" seconds.\n",
    "        await asyncio.sleep(sleep_for)\n",
    "\n",
    "        # Notify the queue that the \"work item\" has been processed.\n",
    "        queue.task_done()\n",
    "\n",
    "        print(f'{name} has slept for {sleep_for:.2f} seconds')\n",
    "\n",
    "\n",
    "async def main():\n",
    "    # Create a queue that we will use to store our \"workload\".\n",
    "    queue = asyncio.Queue()\n",
    "\n",
    "    # Generate random timings and put them into the queue.\n",
    "    total_sleep_time = 0\n",
    "    for _ in range(20):\n",
    "        sleep_for = random.uniform(0.05, 1.0)\n",
    "        total_sleep_time += sleep_for\n",
    "        queue.put_nowait(sleep_for)\n",
    "\n",
    "    # Create three worker tasks to process the queue concurrently.\n",
    "    tasks = []\n",
    "    for i in range(3):\n",
    "        task = asyncio.create_task(worker(f'worker-{i}', queue))\n",
    "        tasks.append(task)\n",
    "\n",
    "    # Wait until the queue is fully processed.\n",
    "    started_at = time.monotonic()\n",
    "    await queue.join()\n",
    "    total_slept_for = time.monotonic() - started_at\n",
    "\n",
    "    # Cancel our worker tasks.\n",
    "    for task in tasks:\n",
    "        task.cancel()\n",
    "    # Wait until all worker tasks are cancelled.\n",
    "    await asyncio.gather(*tasks, return_exceptions=True)\n",
    "\n",
    "    print('====')\n",
    "    print(f'3 workers slept in parallel for {total_slept_for:.2f} seconds')\n",
    "    print(f'total expected sleep time: {total_sleep_time:.2f} seconds')\n",
    "\n",
    "\n",
    "await main()\n"
   ]
  }
 ],
 "metadata": {
  "interpreter": {
   "hash": "24b5e98afc913bcf812c36bfa440af7e4677803eec7c4139b99d160c0b7df5ce"
  },
  "kernelspec": {
   "display_name": "Python 3.10.1 64-bit ('algorithms': pyenv)",
   "name": "python3"
  },
  "language_info": {
   "codemirror_mode": {
    "name": "ipython",
    "version": 3
   },
   "file_extension": ".py",
   "mimetype": "text/x-python",
   "name": "python",
   "nbconvert_exporter": "python",
   "pygments_lexer": "ipython3",
   "version": "3.10.1"
  },
  "orig_nbformat": 4
 },
 "nbformat": 4,
 "nbformat_minor": 2
}
