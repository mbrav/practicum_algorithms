{
 "cells": [
  {
   "cell_type": "code",
   "execution_count": 2,
   "metadata": {},
   "outputs": [],
   "source": [
    "import math\n",
    "from utils.util import timer\n"
   ]
  },
  {
   "cell_type": "markdown",
   "metadata": {},
   "source": [
    "## Sieve of Sundaram\n"
   ]
  },
  {
   "cell_type": "code",
   "execution_count": 3,
   "metadata": {},
   "outputs": [],
   "source": [
    "@timer\n",
    "def sieve_of_Sundaram(n):\n",
    "    \"\"\"The sieve of Sundaram is a simple deterministic algorithm \n",
    "    for finding all the prime numbers up to a specified integer.\"\"\"\n",
    "    if n < 3:\n",
    "        if n < 2:\n",
    "            return 0\n",
    "        else:\n",
    "            return 1\n",
    "    k = (n - 3) // 2 + 1\n",
    "    integers_list = [True] * k\n",
    "    ops = 0\n",
    "    for i in range(0, (int(math.sqrt(n)) - 3) // 2 + 1):\n",
    "        #        if integers_list[i]: # adding this condition turns it into a SoE!\n",
    "        p = 2 * i + 3\n",
    "        s = (p * p - 3) // 2  # compute cull start\n",
    "        for j in range(s, k, p):\n",
    "            integers_list[j] = False\n",
    "            ops += 1\n",
    "    print(\"Total operations:  \", ops, \";\", sep='')\n",
    "    count = 1\n",
    "    for i in range(0, k):\n",
    "        if integers_list[i]:\n",
    "            count += 1\n",
    "    print(\"Found \", count, \" primes to \", n, \".\", sep='')"
   ]
  },
  {
   "cell_type": "code",
   "execution_count": 4,
   "metadata": {},
   "outputs": [
    {
     "name": "stdout",
     "output_type": "stream",
     "text": [
      "Total operations:  1419797;\n",
      "Found 78498 primes to 1000000.\n",
      "Finished 'sieve_of_Sundaram' in 0.14 secs\n"
     ]
    }
   ],
   "source": [
    "sieve_of_Sundaram(1000000)"
   ]
  }
 ],
 "metadata": {
  "interpreter": {
   "hash": "dbecbbbac70a0f6f382e7aff8e31ca5420d6757b0744b3a20131bbad4dbea26c"
  },
  "kernelspec": {
   "display_name": "Python 3.9.7 64-bit ('venv': venv)",
   "name": "python3"
  },
  "language_info": {
   "codemirror_mode": {
    "name": "ipython",
    "version": 3
   },
   "file_extension": ".py",
   "mimetype": "text/x-python",
   "name": "python",
   "nbconvert_exporter": "python",
   "pygments_lexer": "ipython3",
   "version": "3.10.1"
  },
  "orig_nbformat": 4
 },
 "nbformat": 4,
 "nbformat_minor": 2
}
