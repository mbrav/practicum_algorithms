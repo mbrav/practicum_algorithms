{
 "cells": [
  {
   "cell_type": "code",
   "execution_count": 1,
   "metadata": {},
   "outputs": [],
   "source": [
    "import math\n",
    "from utils.util import timer"
   ]
  },
  {
   "cell_type": "markdown",
   "metadata": {},
   "source": [
    "## A. Ближайший ноль\n"
   ]
  },
  {
   "cell_type": "code",
   "execution_count": 2,
   "metadata": {},
   "outputs": [],
   "source": [
    "# def in_put():\n",
    "#     x = int(input())\n",
    "#     y = list(map(int, input().split()))\n",
    "#     return x, y\n",
    "\n",
    "# n, arr = in_put()\n",
    "n = 20\n",
    "txt = \"10 13 31 35 39 0 0 59 0 66 68 73 74 0 0 0 87 89 96 99\"\n",
    "array = list(map(int, txt.split()))\n",
    "test = \"5 4 3 2 1 0 0 1 0 1 2 2 1 0 0 0 1 2 3 4\"\n"
   ]
  },
  {
   "cell_type": "code",
   "execution_count": 3,
   "metadata": {},
   "outputs": [],
   "source": [
    "def good_realtor(arr):\n",
    "    plot_i = []\n",
    "    result = [0] * len(arr)\n",
    "    for i in range(len(arr)):\n",
    "        if arr[i] == 0:\n",
    "            plot_i.append(i)\n",
    "    for i in plot_i:\n",
    "        left_i = right_i = i\n",
    "        while left_i != 0:\n",
    "            # if arr[left_i-1] == 0:\n",
    "            #     break\n",
    "            if arr[left_i-1] < arr[left_i]:\n",
    "                break\n",
    "            # if result[left_i-1] > result[left_i]:\n",
    "            result[left_i-1] += result[left_i] + 1\n",
    "            left_i -= 1\n",
    "        while right_i != len(arr)-1:\n",
    "            if arr[right_i+1] == 0:\n",
    "                break\n",
    "            result[right_i+1] += result[right_i] + 1\n",
    "            right_i += 1\n",
    "    return \" \".join(list(map(str, result)))\n"
   ]
  },
  {
   "cell_type": "code",
   "execution_count": 4,
   "metadata": {},
   "outputs": [],
   "source": [
    "def super_realtor(lst):\n",
    "    \"\"\"Рекусия подобная методу Сортировки слиянием\"\"\"\n",
    "    if len(lst) > 1:\n",
    "        mid = len(lst)//2\n",
    "        left = lst[:mid]\n",
    "        right = lst[mid:]\n",
    "\n",
    "        super_realtor(left)\n",
    "        super_realtor(right)\n",
    "\n",
    "        a = 0\n",
    "        b = 0\n",
    "        c = 0\n",
    "        while a < len(left) and b < len(right):\n",
    "            if left[a] < right[b]:\n",
    "                lst[c] = left[a]\n",
    "                a = a + 1\n",
    "            else:\n",
    "                lst[c] = right[b]\n",
    "                b = b + 1\n",
    "            c = c + 1\n",
    "        while a < len(left):\n",
    "            lst[c] = left[a]\n",
    "            a = a + 1\n",
    "            c = c + 1\n",
    "\n",
    "        while b < len(right):\n",
    "            lst[c] = right[b]\n",
    "            b = b + 1\n",
    "            c = c + 1\n",
    "    return \" \".join(list(map(str, lst)))\n"
   ]
  },
  {
   "cell_type": "code",
   "execution_count": 5,
   "metadata": {},
   "outputs": [],
   "source": [
    "def ok_realtor(arr):\n",
    "    # return \"I am on vacation\"\n",
    "    result = []\n",
    "    # Пройдемся с начала улицы до конца улицы\n",
    "    empty = 0\n",
    "    for i in range(len(arr)):\n",
    "        if arr[i] == 0:\n",
    "            empty = 0\n",
    "        else:\n",
    "            empty += 1\n",
    "        result.append(empty)\n",
    "    # Пройдемся конца улицы до начала улицы\n",
    "    empty = result[-1]\n",
    "    for i in reversed(range(len(arr))):\n",
    "        if result[i] == 0:\n",
    "            empty = 0\n",
    "        elif empty < result[i]:\n",
    "            empty += 1\n",
    "        else:\n",
    "            empty = result[i]\n",
    "        result[i] = empty\n",
    "    return \" \".join(list(map(str, result)))\n"
   ]
  },
  {
   "cell_type": "code",
   "execution_count": 6,
   "metadata": {},
   "outputs": [
    {
     "name": "stdout",
     "output_type": "stream",
     "text": [
      "5 4 3 2 1 0 0 1 0 1 2 2 1 0 0 0 1 2 3 4\n",
      "5 4 3 2 1 0 0 1 0 1 2 2 1 0 0 0 1 2 3 4\n"
     ]
    }
   ],
   "source": [
    "def bad_realtor(arr):\n",
    "    result = []\n",
    "    plots = []\n",
    "    val = 0\n",
    "    # Пройдемся с начала улицы до конца улицы\n",
    "    for i in range(len(arr)):\n",
    "        if arr[i] == 0:\n",
    "            val = 0\n",
    "            plots.append(i)\n",
    "        else:\n",
    "            val += 1\n",
    "        result.append(val)\n",
    "    # Пройдемся с конца улицы до начала улицы\n",
    "    for i in reversed(range(1, len(arr))):\n",
    "        # Делаем корректировки\n",
    "        if (result[i-1] - result[i] > 1\n",
    "                or i < plots[0]):\n",
    "            result[i-1] = result[i] + 1\n",
    "\n",
    "    return \" \".join(list(map(str, result)))\n",
    "\n",
    "\n",
    "print(bad_realtor(array))\n",
    "print(test)\n"
   ]
  },
  {
   "cell_type": "code",
   "execution_count": 7,
   "metadata": {},
   "outputs": [
    {
     "name": "stdout",
     "output_type": "stream",
     "text": [
      "0 0 0 0 0 0 10 13 31 35 39 59 66 68 73 74 87 89 96 99\n",
      "5 4 3 2 1 0 0 1 0 1 2 2 1 0 0 0 1 2 3 4\n"
     ]
    }
   ],
   "source": [
    "print(super_realtor(array))\n",
    "print(test)"
   ]
  },
  {
   "cell_type": "code",
   "execution_count": 8,
   "metadata": {},
   "outputs": [
    {
     "name": "stdout",
     "output_type": "stream",
     "text": [
      "31 15 7 3 1 0 1 2 3 4 5 6 7 8 9 10 11 12 13 14\n",
      "5 4 3 2 1 0 0 1 0 1 2 2 1 0 0 0 1 2 3 4\n"
     ]
    }
   ],
   "source": [
    "print(good_realtor(array))\n",
    "print(test)\n"
   ]
  },
  {
   "cell_type": "code",
   "execution_count": 9,
   "metadata": {},
   "outputs": [
    {
     "name": "stdout",
     "output_type": "stream",
     "text": [
      "0 0 0 0 0 0 1 2 3 4 5 6 7 8 9 10 11 12 13 14\n",
      "5 4 3 2 1 0 0 1 0 1 2 2 1 0 0 0 1 2 3 4\n"
     ]
    }
   ],
   "source": [
    "print(ok_realtor(array))\n",
    "print(test)"
   ]
  },
  {
   "cell_type": "code",
   "execution_count": 10,
   "metadata": {},
   "outputs": [
    {
     "name": "stdout",
     "output_type": "stream",
     "text": [
      "0 0 0 0 0 0 1 2 3 4 5 6 7 8 9 10 11 12 13 14\n",
      "5 4 3 2 1 0 0 1 0 1 2 2 1 0 0 0 1 2 3 4\n"
     ]
    }
   ],
   "source": [
    "print(bad_realtor(array))\n",
    "print(test)\n"
   ]
  },
  {
   "cell_type": "markdown",
   "metadata": {},
   "source": [
    "## B. Ловкость рук\n",
    "\n",
    "Гоша и Тимофей нашли необычный тренажёр для скоростной печати и хотят освоить его. Тренажёр представляет собой поле из клавиш 4× 4, в котором на каждом раунде появляется конфигурация цифр и точек. На клавише написана либо точка, либо цифра от 1 до 9. В момент времени t игрок должен одновременно нажать на все клавиши, на которых написана цифра t. Гоша и Тимофей могут нажать в один момент времени на k клавиш каждый. Если в момент времени t были нажаты все нужные клавиши, то игроки получают 1 балл.\n",
    "\n",
    "Найдите число баллов, которое смогут заработать Гоша и Тимофей, если будут нажимать на клавиши вдвоём.\n"
   ]
  },
  {
   "cell_type": "code",
   "execution_count": 11,
   "metadata": {},
   "outputs": [],
   "source": [
    "def in_put():\n",
    "    x = int(input())\n",
    "    string = (input()+input()+input()+input())\n",
    "    y = []\n",
    "    for i in string:\n",
    "        if i != '.':\n",
    "            y.append(int(i))\n",
    "        else:\n",
    "            y.append(i)\n",
    "    return x, y\n",
    "\n",
    "\n",
    "# n, arr = in_put()\n",
    "\n",
    "n = 1\n",
    "arr = [1, 9, 9, 9,\n",
    "       5, 4, 3, 6,\n",
    "       4, 3, 6, 8,\n",
    "       1, 7, 1, 2]\n"
   ]
  },
  {
   "cell_type": "code",
   "execution_count": 12,
   "metadata": {},
   "outputs": [
    {
     "name": "stdout",
     "output_type": "stream",
     "text": [
      "7\n"
     ]
    }
   ],
   "source": [
    "from collections import Counter\n",
    "\n",
    "\n",
    "def game_sim(key, arr):\n",
    "    result = []\n",
    "    for i, v in Counter(arr).items():\n",
    "        if v <= key*2:\n",
    "            result.append(i)\n",
    "    score = 0\n",
    "    for i in range(1, 10):\n",
    "        for k, value in Counter(arr).items():\n",
    "            if i == k and value <= key*2:\n",
    "                score += 1\n",
    "    return score\n",
    "\n",
    "\n",
    "print(game_sim(n, arr))\n"
   ]
  }
 ],
 "metadata": {
  "interpreter": {
   "hash": "dbecbbbac70a0f6f382e7aff8e31ca5420d6757b0744b3a20131bbad4dbea26c"
  },
  "kernelspec": {
   "display_name": "Python 3.9.7 64-bit ('venv': venv)",
   "name": "python3"
  },
  "language_info": {
   "codemirror_mode": {
    "name": "ipython",
    "version": 3
   },
   "file_extension": ".py",
   "mimetype": "text/x-python",
   "name": "python",
   "nbconvert_exporter": "python",
   "pygments_lexer": "ipython3",
   "version": "3.10.1"
  },
  "orig_nbformat": 4
 },
 "nbformat": 4,
 "nbformat_minor": 2
}
