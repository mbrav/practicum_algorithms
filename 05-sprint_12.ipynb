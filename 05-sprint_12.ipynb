{
 "cells": [
  {
   "cell_type": "markdown",
   "metadata": {},
   "source": [
    "## A. Мониторинг\n",
    "\n",
    "Алла получила задание, связанное с мониторингом работы различных серверов. Требуется понять, сколько времени обрабатываются определённые запросы на конкретных серверах. Эту информацию нужно хранить в матрице, где номер столбца соответствуют идентификатору запроса, а номер строки — идентификатору сервера. Алла перепутала строки и столбцы местами. С каждым бывает. Помогите ей исправить баг.\n",
    "\n",
    "Есть матрица размера $m × n$. Нужно написать функцию, которая её транспонирует.\n",
    "\n",
    "Транспонированная матрица получается из исходной заменой строк на столбцы.\n",
    "\n",
    "Например, для матрицы $А$ (слева) транспонированной будет следующая матрица (справа):\n",
    "\n",
    "![](https://contest.yandex.ru/testsys/statement-image?imageId=69ff475b66bdbc91024d48b48ee588d5a58645a20b1433663a9e7981bef14e3d)\n",
    "\n",
    "### Формат ввода\n",
    "\n",
    "В первой строке задано число $n$ — количество строк матрицы.\n",
    "Во второй строке задано $m$ — число столбцов, $m$ и $n$ не превосходят $1000$. В следующих n строках задана матрица. Числа в ней не превосходят по модулю $1000$.\n"
   ]
  },
  {
   "cell_type": "code",
   "execution_count": 44,
   "metadata": {},
   "outputs": [
    {
     "name": "stdout",
     "output_type": "stream",
     "text": [
      "1 0 7 2 \n",
      "2 2 4 7 \n",
      "3 6 1 0 \n",
      "\n",
      "1 2 3 0 2 6 7 4 1 2 7 0\n"
     ]
    }
   ],
   "source": [
    "def in_put():\n",
    "    x = int(input())\n",
    "    y = int(input())\n",
    "    arr = []\n",
    "    for i in range(x):\n",
    "        arr.extend(list(map(int, input().split())))\n",
    "    return x, y, arr\n",
    "\n",
    "\n",
    "def neo_matrix(x, y, arr):\n",
    "    result = [0] * len(arr)\n",
    "    for i in range(len(arr)):\n",
    "        i_x = i % x\n",
    "        i_y = i // x\n",
    "        cur_i = i_x + i_y*x\n",
    "        new_i = i_y + i_x*y\n",
    "        result[new_i] = arr[cur_i]\n",
    "\n",
    "    string = \"\"\n",
    "    for i, val in enumerate(result):\n",
    "        string += f\"{val} \"\n",
    "        if i % y == y-1:\n",
    "            string += \"\\n\"\n",
    "    return string\n",
    "\n",
    "\n",
    "if __name__ == \"__main__\":\n",
    "    # y, x, arr = in_put()\n",
    "\n",
    "    x = 3\n",
    "    y = 4\n",
    "    arr = [1, 2, 3,\n",
    "           0, 2, 6,\n",
    "           7, 4, 1,\n",
    "           2, 7, 0, ]\n",
    "\n",
    "    print(neo_matrix(x, y, arr))\n",
    "    print(\" \".join(list(map(str, arr))))\n"
   ]
  },
  {
   "cell_type": "markdown",
   "metadata": {},
   "source": [
    "## B. Список дел\n",
    "\n",
    "Васе нужно распечатать свой список дел на сегодня. Помогите ему: напишите функцию, которая печатает все его дела. Известно, что дел у Васи не больше 5000.\n",
    "\n",
    "Внимание: в этой задаче не нужно считывать входные данные. Нужно написать только функцию, которая принимает на вход голову списка и печатает его элементы. Ниже дано описание структуры, которая задаёт узел списка. Используйте компилятор Make.\n",
    "\n",
    "Мы рекомендуем воспользоваться заготовками кода для данной задачи, расположенными по [ссылке](https://disk.yandex.ru/d/rpFsxDgcDXGsJw).\n",
    "\n",
    "Решение надо отправлять только в виде файла с расширением, которое соответствует вашему языку. Иначе даже корректно написанное решение не пройдет тесты.\n"
   ]
  },
  {
   "cell_type": "code",
   "execution_count": 30,
   "metadata": {},
   "outputs": [],
   "source": [
    "# Comment it before submitting\n",
    "class Node:\n",
    "    def __init__(self, value, next_item=None):\n",
    "        self.value = value\n",
    "        self.next_item = next_item\n",
    "\n",
    "\n",
    "def link_list(vertex):\n",
    "    while vertex:\n",
    "        print(vertex.value, end=\" -> \")\n",
    "        vertex = vertex.next_item\n",
    "    print(\"None\")\n",
    "\n",
    "\n",
    "def in_put():\n",
    "    x = int(input())\n",
    "    arr = []\n",
    "    for i in range(x):\n",
    "        arr.append(input())\n",
    "    return x, arr\n"
   ]
  },
  {
   "cell_type": "code",
   "execution_count": 31,
   "metadata": {},
   "outputs": [
    {
     "name": "stdout",
     "output_type": "stream",
     "text": [
      "node0\n",
      "node1\n",
      "node2\n",
      "node3\n"
     ]
    }
   ],
   "source": [
    "def solution(node) -> None:\n",
    "    # Your code\n",
    "    # ヽ(´▽`)/\n",
    "    while node:\n",
    "        print(node.value)\n",
    "        node = node.next_item\n",
    "\n",
    "\n",
    "def test():\n",
    "    node3 = Node(\"node3\", None)\n",
    "    node2 = Node(\"node2\", node3)\n",
    "    node1 = Node(\"node1\", node2)\n",
    "    node0 = Node(\"node0\", node1)\n",
    "    solution(node0)\n",
    "\n",
    "\n",
    "if __name__ == \"__main__\":\n",
    "    test()\n"
   ]
  },
  {
   "cell_type": "markdown",
   "metadata": {},
   "source": [
    "## C. Нелюбимое дело\n"
   ]
  },
  {
   "cell_type": "code",
   "execution_count": 32,
   "metadata": {},
   "outputs": [
    {
     "name": "stdout",
     "output_type": "stream",
     "text": [
      "<__main__.Node object at 0x7f5d342bba90>\n"
     ]
    }
   ],
   "source": [
    "def solution(node, idx: int) -> None:\n",
    "    head = node\n",
    "    if idx == 0:\n",
    "        return head.next_item\n",
    "    while idx:\n",
    "        prev_node = node\n",
    "        node = node.next_item\n",
    "        idx -= 1\n",
    "    n_item = getattr(node, 'next_item', None)\n",
    "    prev_node.next_item = n_item\n",
    "    return head\n",
    "\n",
    "\n",
    "def test():\n",
    "    # node5 = Node(\"node5\", None)\n",
    "    node4 = Node(\"vyoe mc\", None)\n",
    "    node3 = Node(\"iiwajidvfg dcqil xhbsyc\", node4)\n",
    "    node2 = Node(\"n kkt yb ct\", node3)\n",
    "    node1 = Node(\"hja\", node2)\n",
    "    node0 = Node(\"ud jjfmsat\", node1)\n",
    "    new_head = solution(node0, 0)\n",
    "    print(new_head)\n",
    "\n",
    "\n",
    "if __name__ == \"__main__\":\n",
    "    test()\n"
   ]
  },
  {
   "cell_type": "markdown",
   "metadata": {},
   "source": [
    "## D. Заботливая мама\n"
   ]
  },
  {
   "cell_type": "code",
   "execution_count": 33,
   "metadata": {},
   "outputs": [
    {
     "name": "stdout",
     "output_type": "stream",
     "text": [
      "2\n"
     ]
    }
   ],
   "source": [
    "def solution(node, elem: str) -> int:\n",
    "    i = 0\n",
    "    while node:\n",
    "        if node.value == elem:\n",
    "            return i\n",
    "        node = getattr(node, 'next_item', None)\n",
    "        i += 1\n",
    "    return -1\n",
    "\n",
    "\n",
    "def test():\n",
    "    node3 = Node(\"node3\", None)\n",
    "    node2 = Node(\"node2\", node3)\n",
    "    node1 = Node(\"node1\", node2)\n",
    "    node0 = Node(\"node0\", node1)\n",
    "    idx = solution(node0, \"node2\")\n",
    "    print(idx)\n",
    "    # result is idx == 2\n",
    "\n",
    "\n",
    "if __name__ == \"__main__\":\n",
    "    test()\n"
   ]
  },
  {
   "cell_type": "markdown",
   "metadata": {},
   "source": [
    "## E. Всё наоборот\n"
   ]
  },
  {
   "cell_type": "code",
   "execution_count": 34,
   "metadata": {},
   "outputs": [],
   "source": [
    "class DoubleConnectedNode:\n",
    "    def __init__(self, value, next=None, prev=None):\n",
    "        self.value = value\n",
    "        self.next = next\n",
    "        self.prev = prev\n"
   ]
  },
  {
   "cell_type": "code",
   "execution_count": 35,
   "metadata": {},
   "outputs": [
    {
     "name": "stdout",
     "output_type": "stream",
     "text": [
      "NODE3 node2 node2\n",
      "NODE2 node3 node1\n",
      "NODE1 node2 node0\n",
      "NODE0 node1 None\n",
      "HEAD node3\n"
     ]
    }
   ],
   "source": [
    "def solution(node):\n",
    "    node.prev = None\n",
    "    while node.next:\n",
    "        if node.prev != None:\n",
    "            node.next, node.prev = node.prev, node.next\n",
    "        else:\n",
    "            node.prev, node.next = node.next, None\n",
    "        node = node.prev\n",
    "    node.next = node.prev\n",
    "    return node\n",
    "\n",
    "\n",
    "def test():\n",
    "    node3 = DoubleConnectedNode(\"node3\")\n",
    "    node2 = DoubleConnectedNode(\"node2\")\n",
    "    node1 = DoubleConnectedNode(\"node1\")\n",
    "    node0 = DoubleConnectedNode(\"node0\")\n",
    "\n",
    "    node0.next = node1\n",
    "    node1.prev = node0\n",
    "    node1.next = node2\n",
    "    node2.prev = node1\n",
    "    node2.next = node3\n",
    "    node3.prev = node2\n",
    "    new_head = solution(node0)\n",
    "    # result is new_head == node3\n",
    "    # node3.next == node2\n",
    "    # node2.next == node1 node2.prev == node3\n",
    "    # node1.next == node0 node1.prev == node2\n",
    "    # node0.prev == node1\n",
    "\n",
    "    print(\"NODE3\", node3.prev.value, node3.next.value)\n",
    "    print(\"NODE2\", node2.prev.value, node2.next.value)\n",
    "    print(\"NODE1\", node1.prev.value, node1.next.value)\n",
    "    print(\"NODE0\", node0.prev.value, node0.next)\n",
    "    print(\"HEAD\", new_head.value)\n",
    "\n",
    "\n",
    "if __name__ == \"__main__\":\n",
    "    test()\n"
   ]
  },
  {
   "cell_type": "markdown",
   "metadata": {},
   "source": [
    "## F. Стек - Max\n"
   ]
  },
  {
   "cell_type": "code",
   "execution_count": 36,
   "metadata": {},
   "outputs": [
    {
     "name": "stdout",
     "output_type": "stream",
     "text": [
      "error\n",
      "error\n",
      "9\n",
      "-8\n",
      "-8\n"
     ]
    }
   ],
   "source": [
    "from operator import methodcaller\n",
    "\n",
    "\n",
    "def in_put(obj):\n",
    "    x = int(input())\n",
    "    arr = []\n",
    "    for i in range(x):\n",
    "        args = input().split()\n",
    "        f = methodcaller(args[0])\n",
    "        if len(args) == 2:\n",
    "            f = methodcaller(args[0], int(args[1]))\n",
    "        f(obj)\n",
    "    return x, arr\n",
    "\n",
    "\n",
    "class StackMax:\n",
    "    def __init__(self):\n",
    "        self.items = []\n",
    "\n",
    "    def push(self, item):\n",
    "        self.items.append(item)\n",
    "\n",
    "    def pop(self):\n",
    "        if self.items:\n",
    "            self.items.pop()\n",
    "        else:\n",
    "            print('error')\n",
    "\n",
    "    def get_max(self):\n",
    "        if self.items:\n",
    "            print(max(self.items))\n",
    "        else:\n",
    "            print('None')\n",
    "\n",
    "\n",
    "if __name__ == \"__main__\":\n",
    "    stack = StackMax()\n",
    "    # in_put(stack)\n",
    "    stack.pop()\n",
    "    stack.pop()\n",
    "    stack.push(9)\n",
    "    stack.push(-7)\n",
    "    stack.get_max()\n",
    "    stack.pop()\n",
    "    stack.pop()\n",
    "    stack.push(-8)\n",
    "    stack.get_max()\n",
    "    stack.get_max()\n"
   ]
  },
  {
   "cell_type": "markdown",
   "metadata": {},
   "source": [
    "## G. Стек - MaxEffective\n",
    "\n",
    "Реализуйте класс StackMaxEffective, поддерживающий операцию определения максимума среди элементов в стеке. Сложность операции должна быть $O(1)$. Для пустого стека операция должна возвращать None. При этом `push(x)` и `pop()` также должны выполняться за константное время. "
   ]
  },
  {
   "cell_type": "code",
   "execution_count": 37,
   "metadata": {},
   "outputs": [
    {
     "name": "stdout",
     "output_type": "stream",
     "text": [
      "error\n",
      "error\n",
      "9\n",
      "-8\n",
      "-8\n"
     ]
    }
   ],
   "source": [
    "from operator import methodcaller\n",
    "\n",
    "\n",
    "def in_put(obj):\n",
    "    x = int(input())\n",
    "    arr = []\n",
    "    for i in range(x):\n",
    "        args = input().split()\n",
    "        f = methodcaller(args[0])\n",
    "        if len(args) == 2:\n",
    "            f = methodcaller(args[0], int(args[1]))\n",
    "        f(obj)\n",
    "    return x, arr\n",
    "\n",
    "\n",
    "class MaxEffective:\n",
    "    def __init__(self):\n",
    "        self.items = []\n",
    "\n",
    "    def push(self, item):\n",
    "        if self.items:\n",
    "            if item >= self.items[-1]:\n",
    "                self.items.append(item)\n",
    "            else:\n",
    "                self.items.append(self.items[-1])\n",
    "        else:\n",
    "            self.items.append(item)\n",
    "\n",
    "    def pop(self):\n",
    "        if self.items:\n",
    "            self.items.pop()\n",
    "        else:\n",
    "            print('error')\n",
    "\n",
    "    def get_max(self):\n",
    "        if self.items:\n",
    "            print(self.items[-1])\n",
    "        else:\n",
    "            print('None')\n",
    "\n",
    "\n",
    "if __name__ == \"__main__\":\n",
    "    stack = MaxEffective()\n",
    "    # in_put(stack)\n",
    "    stack.pop()\n",
    "    stack.pop()\n",
    "    stack.push(9)\n",
    "    stack.push(-7)\n",
    "    stack.get_max()\n",
    "    stack.pop()\n",
    "    stack.pop()\n",
    "    stack.push(-8)\n",
    "    stack.get_max()\n",
    "    stack.get_max()\n"
   ]
  },
  {
   "cell_type": "markdown",
   "metadata": {},
   "source": [
    "## H. Скобочная последовательность\n",
    "\n",
    "Вот какую задачу Тимофей предложил на собеседовании одному из кандидатов. Если вы с ней ещё не сталкивались, то наверняка столкнётесь –— она довольно популярная.\n",
    "\n",
    "Дана скобочная последовательность. Нужно определить, правильная ли она.\n",
    "\n",
    "Будем придерживаться такого определения:\n",
    "\n",
    "- пустая строка — правильная скобочная последовательность;\n",
    "- правильная скобочная последовательность, взятая в скобки одного типа, — правильная скобочная последовательность;\n",
    "- правильная скобочная последовательность с приписанной слева или справа правильной скобочной последовательностью — тоже правильная.\n",
    "\n",
    "На вход подаётся последовательность из скобок трёх видов: [], (), {}.\n",
    "\n",
    "Напишите функцию `is_correct_bracket_seq`, которая принимает на вход скобочную последовательность и возвращает True, если последовательность правильная, а иначе `False`.\n",
    "\n"
   ]
  },
  {
   "cell_type": "code",
   "execution_count": 38,
   "metadata": {},
   "outputs": [
    {
     "name": "stdout",
     "output_type": "stream",
     "text": [
      "False\n"
     ]
    }
   ],
   "source": [
    "def braket(code):\n",
    "    a = ['[', '{', '(']\n",
    "    b = [']', '}', ')']\n",
    "\n",
    "    stack = []\n",
    "    for i in code:\n",
    "        if i in a:\n",
    "            stack.append(i)\n",
    "        elif i in b:\n",
    "            pos = b.index(i)\n",
    "            if (len(stack) > 0) and (a[pos] == stack[len(stack) - 1]):\n",
    "                stack.pop()\n",
    "            else:\n",
    "                return False\n",
    "    if len(stack) == 0:\n",
    "        return True\n",
    "    else:\n",
    "        return False\n",
    "\n",
    "\n",
    "if __name__ == '__main__':\n",
    "    print(braket('(({})({[]}[])'))\n",
    "    # print(braket(input()))\n"
   ]
  },
  {
   "cell_type": "markdown",
   "metadata": {},
   "source": [
    "## I. Ограниченная очередь\n",
    "\n",
    "Астрологи объявили день очередей ограниченного размера. Тимофею нужно написать класс `MyQueueSized`, который принимает параметр `max_size`, означающий максимально допустимое количество элементов в очереди.\n",
    "\n",
    "Помогите ему — реализуйте программу, которая будет эмулировать работу такой очереди. Функции, которые надо поддержать, описаны в формате ввода.\n"
   ]
  },
  {
   "cell_type": "code",
   "execution_count": 39,
   "metadata": {},
   "outputs": [
    {
     "name": "stdout",
     "output_type": "stream",
     "text": [
      "None\n",
      "-8\n",
      "2\n",
      "3\n",
      "None\n",
      "[-8, 7, 3, 16, None, None, None, None]\n",
      "4\n",
      "None\n",
      "[-8, 7, 3, 16, 12, None, None, None]\n",
      "5\n",
      "None\n"
     ]
    }
   ],
   "source": [
    "from operator import methodcaller\n",
    "\n",
    "\n",
    "def in_put(obj):\n",
    "    x = int(input())\n",
    "    y = int(input())\n",
    "    arr = []\n",
    "    obj.setup(y)\n",
    "    for i in range(x):\n",
    "        args = input().split()\n",
    "        f = methodcaller(args[0])\n",
    "        if len(args) == 2:\n",
    "            f = methodcaller(args[0], int(args[1]))\n",
    "        f(obj)\n",
    "    return x, y, arr\n",
    "\n",
    "\n",
    "class MyQueueSized:\n",
    "    def __init__(self):\n",
    "        self.head = 0\n",
    "        self.tail = 0\n",
    "        self.siz = 0\n",
    "\n",
    "    def setup(self, n):\n",
    "        self.queue = [None] * n\n",
    "        self.max_n = n\n",
    "\n",
    "    def push(self, item):\n",
    "        if self.siz != self.max_n:\n",
    "            self.queue[self.tail] = item\n",
    "            self.tail = (self.tail + 1) % self.max_n\n",
    "            self.siz += 1\n",
    "            return item\n",
    "        print('error')\n",
    "\n",
    "    def pop(self):\n",
    "        if self.siz == 0:\n",
    "            print('None')\n",
    "            return None\n",
    "        item = self.queue[self.head]\n",
    "        self.queue[self.head] = None\n",
    "        self.head = (self.head + 1) % self.max_n\n",
    "        self.siz -= 1\n",
    "        print(item)\n",
    "        return item\n",
    "\n",
    "    def peek(self):\n",
    "        print(self.queue[self.head])\n",
    "\n",
    "    def size(self):\n",
    "        print(self.siz)\n",
    "\n",
    "\n",
    "\n",
    "if __name__ == '__main__':\n",
    "    queue = MyQueueSized()\n",
    "    # in_put(queue)\n",
    "    queue.setup(8)\n",
    "    # queue.pop()\n",
    "    queue.pop()\n",
    "    queue.push(-8)\n",
    "    queue.push(7)\n",
    "    queue.peek()\n",
    "    queue.size()\n",
    "    queue.push(3)\n",
    "    print(queue.size())\n",
    "    queue.push(16)\n",
    "    print(queue.queue)  # [None, None, None, 11, -8, 7, 3, 16]\n",
    "    print(queue.size())  # 5\n",
    "    queue.push(12)\n",
    "    print(queue.queue)  # [12, None, None, 11, -8, 7, 3, 16]\n",
    "    print(queue.size())  # 6\n"
   ]
  },
  {
   "cell_type": "markdown",
   "metadata": {},
   "source": [
    "## J. Списочная очередь\n",
    "\n",
    "Любимый вариант очереди Тимофея — очередь, написанная с использованием связного списка. Помогите ему с реализацией. Очередь должна поддерживать выполнение трёх команд:\n",
    "\n",
    "-   `get()` — вывести элемент, находящийся в голове очереди, и удалить его. Если очередь пуста, то вывести «error».\n",
    "-   `put(x)` — добавить число x в очередь\n",
    "-   `size()` — вывести текущий размер очереди\n"
   ]
  },
  {
   "cell_type": "code",
   "execution_count": 1,
   "metadata": {},
   "outputs": [
    {
     "name": "stdout",
     "output_type": "stream",
     "text": [
      "2\n",
      "1234\n"
     ]
    }
   ],
   "source": [
    "from operator import methodcaller\n",
    "\n",
    "\n",
    "def in_put(obj):\n",
    "    x = int(input())\n",
    "    arr = []\n",
    "    for i in range(x):\n",
    "        args = input().countplit()\n",
    "        f = methodcaller(args[0])\n",
    "        if len(args) == 2:\n",
    "            f = methodcaller(args[0], int(args[1]))\n",
    "        f(obj)\n",
    "    return x, arr\n",
    "\n",
    "\n",
    "class Queue:\n",
    "    \"\"\"Queue class for nodes\"\"\"\n",
    "\n",
    "    def __init__(self):\n",
    "        self.head = None\n",
    "        self.tail = None\n",
    "        self.count = 0\n",
    "\n",
    "    class Node:\n",
    "        \"\"\"Node Class\"\"\"\n",
    "\n",
    "        def __init__(self, value=None, next=None, prev=None):\n",
    "            self.value = value\n",
    "            self.next = next\n",
    "\n",
    "    def put(self, value):\n",
    "        node = self.Node(value=value)\n",
    "        if self.tail:\n",
    "            self.tail.next = node\n",
    "            self.tail = node\n",
    "        if self.head == None:\n",
    "            self.head = node\n",
    "            self.tail = node\n",
    "        self.count += 1\n",
    "\n",
    "    def get(self):\n",
    "        if self.head and self.count > 0:\n",
    "            print(self.head.value)\n",
    "            self.head = self.head.next\n",
    "            self.count -= 1\n",
    "        else:\n",
    "            print('error')\n",
    "\n",
    "    def size(self):\n",
    "        print(self.count)\n",
    "\n",
    "\n",
    "if __name__ == '__main__':\n",
    "    queue = Queue()\n",
    "    # in_put(queue)\n",
    "    queue.put(1234)\n",
    "    queue.put(25)\n",
    "    queue.size()\n",
    "    queue.get()\n"
   ]
  },
  {
   "cell_type": "markdown",
   "metadata": {},
   "source": [
    "## K. Рекурсивные числа Фибоначчи\n",
    "\n",
    "У Тимофея было $n(0≤n≤32)$ стажёров. Каждый стажёр хотел быть лучше своих предшественников, поэтому *i*-й стажёр делал столько коммитов, сколько делали два предыдущих стажёра в сумме. Два первых стажёра были менее инициативными — они сделали по одному коммиту.\n",
    "\n",
    "Пусть $Fi$ — число коммитов, сделанных *i*-м стажёром(стажёры нумеруются с нуля). Тогда выполняется следующее: $F0 = F1 = 1$. Для всех $i≥2$  выполнено $Fi = Fi−1+Fi−2$.\n",
    "\n",
    "Определите, сколько кода напишет следующий стажёр — найдите $Fn$.\n",
    "\n",
    "Решение должно быть реализовано рекурсивно.\n"
   ]
  },
  {
   "cell_type": "code",
   "execution_count": 2,
   "metadata": {},
   "outputs": [
    {
     "name": "stdout",
     "output_type": "stream",
     "text": [
      "2\n"
     ]
    }
   ],
   "source": [
    "def in_put():\n",
    "    x = int(input())\n",
    "    return x\n",
    "\n",
    "\n",
    "def fibo(num):\n",
    "    a = 1\n",
    "    b = 1\n",
    "    c = 0\n",
    "    if num < 2:\n",
    "        print(a)\n",
    "    else:\n",
    "        b = 2\n",
    "        for i in range(2, num):\n",
    "            c = a + b\n",
    "            a = b\n",
    "            b = c\n",
    "        print(b)\n",
    "\n",
    "\n",
    "if __name__ == '__main__':\n",
    "    # fibo(in_put())\n",
    "    fibo(2)\n"
   ]
  },
  {
   "cell_type": "markdown",
   "metadata": {},
   "source": [
    "## L. Фибоначчи по модулю\n",
    "\n",
    "У Тимофея было очень много стажёров, целых $N(0 ≤ N ≤ 106)$ человек. Каждый стажёр хотел быть лучше своих предшественников, поэтому $i$-й стажёр делал столько коммитов, сколько делали два предыдущих стажёра в сумме. Два первых стажёра были менее инициативными — они сделали по одному коммиту.\n",
    "\n",
    "Пусть $Fi$ — число коммитов, сделанных $i$-м стажёром(стажёры нумеруются с нуля). Первые два стажёра сделали по одному коммиту: $F0 = F1 = 1$. Для всех $i≥ 2$ выполнено $Fi = Fi−1+Fi−2$.\n",
    "\n",
    "Определите, сколько кода напишет следующий стажёр — найдите последние $k$ цифр числа $Fn$.\n",
    "\n",
    "Как найти $k$ последних цифр\n",
    "\n",
    "Чтобы вычислить $k$ последних цифр некоторого числа x, достаточно взять остаток от его деления на число 10k. Эта операция обозначается как $x mod 10k$. Узнайте, как записывается операция взятия остатка по модулю в вашем языке программирования.\n",
    "\n",
    "Также обратите внимание на возможное переполнение целочисленных типов, если в вашем языке такое случается.\n",
    "\n",
    "**Как найти k последних цифр**\n",
    "\n",
    "Чтобы вычислить $k$ последних цифр некоторого числа $x$, достаточно взять остаток от его деления на число $10^k$. Эта операция обозначается как $x mod 10^k$. Узнайте, как записывается операция взятия остатка по модулю в вашем языке программирования.\n",
    "\n",
    "Также обратите внимание на возможное переполнение целочисленных типов, если в вашем языке такое случается.\n",
    "\n",
    "**Формат ввода**\n",
    "\n",
    "В первой строке записаны через пробел два целых числа $n (0 ≤ n ≤ 106)$ и $k (1 ≤ k ≤ 8)$.\n",
    "\n",
    "**Формат вывода**\n",
    "\n",
    "Выведите единственное число – последние $k$ цифр числа $Fn$.\n",
    "\n",
    "Если в искомом числе меньше $k$ цифр, то выведите само число без ведущих нулей.\n",
    "\n"
   ]
  },
  {
   "cell_type": "code",
   "execution_count": 4,
   "metadata": {},
   "outputs": [],
   "source": [
    "#!pip install pyinstrument\n",
    "# %load_ext pyinstrument\n"
   ]
  },
  {
   "cell_type": "code",
   "execution_count": 5,
   "metadata": {},
   "outputs": [
    {
     "name": "stdout",
     "output_type": "stream",
     "text": [
      "1\n",
      "1\n"
     ]
    }
   ],
   "source": [
    "from functools import lru_cache\n",
    "\n",
    "\n",
    "def in_put():\n",
    "    res = list(map(int, input().split()))\n",
    "    return res[0], res[1]\n",
    "\n",
    "\n",
    "def fibo(n, n2):\n",
    "    a = 1\n",
    "    b = 1\n",
    "    c = 0\n",
    "    if n < 2:\n",
    "        return a\n",
    "    else:\n",
    "        b = 2\n",
    "        for i in range(2, n):\n",
    "            c = a + b\n",
    "            a = b\n",
    "            b = c\n",
    "    return b % pow(10, n2)\n",
    "\n",
    "def fibo2(n, n2):\n",
    "    @lru_cache(None)\n",
    "    def fib(n):\n",
    "        if n in (0, 1):\n",
    "            return 1\n",
    "        if n & 1:\n",
    "            return fib((n+1)//2 - 1) * (2*fib((n+1)//2) - fib((n+1)//2 - 1))\n",
    "        a, b = fib(n//2 - 1), fib(n//2)\n",
    "        return a**2 + b**2\n",
    "    if n < 2:\n",
    "        return 1\n",
    "    return fib(n) % pow(10, n2)\n",
    "\n",
    "\n",
    "if __name__ == '__main__':\n",
    "    # x, y = in_put()\n",
    "    # print(fibo(x, y))\n",
    "    print(fibo(1, 5))\n",
    "    print(fibo2(1, 5))\n",
    "    # %timeit fibo(10, 1)\n",
    "    # %timeit fibo2(10, 1)\n"
   ]
  }
 ],
 "metadata": {
  "interpreter": {
   "hash": "dbecbbbac70a0f6f382e7aff8e31ca5420d6757b0744b3a20131bbad4dbea26c"
  },
  "kernelspec": {
   "display_name": "Python 3.9.9 64-bit ('venv': venv)",
   "name": "python3"
  },
  "language_info": {
   "codemirror_mode": {
    "name": "ipython",
    "version": 3
   },
   "file_extension": ".py",
   "mimetype": "text/x-python",
   "name": "python",
   "nbconvert_exporter": "python",
   "pygments_lexer": "ipython3",
   "version": "3.10.1"
  },
  "orig_nbformat": 4
 },
 "nbformat": 4,
 "nbformat_minor": 2
}
